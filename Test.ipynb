{
 "cells": [
  {
   "cell_type": "code",
   "execution_count": 5,
   "metadata": {},
   "outputs": [],
   "source": [
    "import os\n",
    "import numpy as np\n",
    "import torch"
   ]
  },
  {
   "cell_type": "code",
   "execution_count": 11,
   "metadata": {},
   "outputs": [],
   "source": [
    "from Config import parse_arguments\n",
    "from Models.model_utils import FEDMD_digest_revisit, save_checkpoints, select_model, get_logits, create_model_architectures_noblip\n",
    "from Common.dataset_fedmd import FEDMD_load_dataloaders_noblip"
   ]
  },
  {
   "cell_type": "code",
   "execution_count": 12,
   "metadata": {},
   "outputs": [],
   "source": [
    "args = parse_arguments()"
   ]
  },
  {
   "cell_type": "code",
   "execution_count": 13,
   "metadata": {},
   "outputs": [
    {
     "data": {
      "text/plain": [
       "Namespace(sample_fraction=1.0, min_num_clients=2, KD=False, algo_type='FEDMD_homogen', available_architectures_noblip=['NetS', 'DeepNN_Ram', 'DeepNN_Hanu', 'DeepNN_Lax'], available_architectures_blip=['MLP1', 'MLP2', 'MLP3', 'MLP4'], name='cifar100', partitioning='dirichlet', num_clients=2, num_rounds=2, BLIP=False, proximal_mu=0.02, scheduler_=False, val_ratio=0.2, seed=42, alpha=1.0, labels_per_client=2, similarity=0.5, batch_size=32, batch_size_ratio=0.01, server_epochs=5, num_cpus=1, num_gpus=1, device='cuda')"
      ]
     },
     "execution_count": 13,
     "metadata": {},
     "output_type": "execute_result"
    }
   ],
   "source": [
    "args"
   ]
  },
  {
   "cell_type": "code",
   "execution_count": 14,
   "metadata": {},
   "outputs": [],
   "source": [
    "def fit_config(server_round: int):\n",
    "    \"\"\"Return training configuration dict for each round.\"\"\"\n",
    "\n",
    "    config = {\n",
    "        \"server_round\": server_round,\n",
    "        \"epochs\": 2,\n",
    "        \"proximal_mu\":args.proximal_mu,\n",
    "        \"client_kd_alpha\": 0.3,\n",
    "        \"client_kd_temperature\": 3,\n",
    "        \"server_kd_alpha\": 0.7,\n",
    "        \"server_kd_temperature\": 7,\n",
    "        \"server_lr\": 0.001 \n",
    "            }\n",
    "    return config"
   ]
  },
  {
   "cell_type": "code",
   "execution_count": 18,
   "metadata": {},
   "outputs": [],
   "source": [
    "    \n",
    "def trasfer_learning_init(args, model_architectures, serverloader, trainloaders):\n",
    "    \"\"\"\n",
    "    Initialize the model for transfer learning.\n",
    "    This function trains the model on the server data and then initializes client models.\n",
    "    \"\"\"\n",
    "\n",
    "    client_logits = {}\n",
    "    config = fit_config(server_round=0)\n",
    "    num_classes=100\n",
    "\n",
    "    for i, trainloader in enumerate(trainloaders):\n",
    "        print(f\"\\n Transfer learning on client {i + 1}\\n\")\n",
    "\n",
    "        net = select_model(model_architectures[i], args.device, args.BLIP, num_classes=num_classes)\n",
    "        optimizer = torch.optim.Adam(net.parameters(), lr=1e-3)\n",
    "        # Training the model on public data\n",
    "        FEDMD_digest_revisit(serverloader, net, optimizer, args.device, config, aggregated_logits=None, mode=\"revisit\")\n",
    "        # Training the model on private data\n",
    "        FEDMD_digest_revisit(trainloader, net, optimizer, args.device, config, aggregated_logits=None, mode=\"revisit\")\n",
    "        # logit Communication for round 1\n",
    "        client_logits[i] = get_logits(serverloader, net, args.device)\n",
    "        # Save the model and optimizer state for each client\n",
    "        checkpoint_dir = f\"client_checkpoints/{args.algo_type}/{args.alpha}/client_{i}\"\n",
    "        os.makedirs(checkpoint_dir, exist_ok=True)\n",
    "        save_checkpoints(net, optimizer, 0, checkpoint_dir)\n",
    "\n",
    "    logits = np.vstack([client_logits[i] for i in sorted(client_logits.keys())])\n",
    "\n",
    "    return logits"
   ]
  },
  {
   "cell_type": "code",
   "execution_count": 19,
   "metadata": {},
   "outputs": [],
   "source": [
    "trainloaders, valloaders, testloader, server_loader = FEDMD_load_dataloaders_noblip(args)\n",
    "results_save_path = f\"./results/NO_BLIP/{args.algo_type}/{args.alpha}\"\n",
    "model_architectures = create_model_architectures_noblip(args.available_architectures_noblip, args.algo_type, args.num_clients)"
   ]
  },
  {
   "cell_type": "code",
   "execution_count": 20,
   "metadata": {},
   "outputs": [
    {
     "data": {
      "text/plain": [
       "{0: 'NetS', 1: 'NetS'}"
      ]
     },
     "execution_count": 20,
     "metadata": {},
     "output_type": "execute_result"
    }
   ],
   "source": [
    "model_architectures"
   ]
  },
  {
   "cell_type": "code",
   "execution_count": 21,
   "metadata": {},
   "outputs": [
    {
     "name": "stdout",
     "output_type": "stream",
     "text": [
      "\n",
      " Transfer learning on client 1\n",
      "\n",
      " Round 0 --> Epoch 1/2 \t Loss: 0.0656 \t Accuracy: 27.96%\n",
      " Round 0 --> Epoch 2/2 \t Loss: 0.0546 \t Accuracy: 40.04%\n",
      " Round 0 --> Epoch 1/2 \t Loss: 0.1243 \t Accuracy: 11.63%\n",
      " Round 0 --> Epoch 2/2 \t Loss: 0.1074 \t Accuracy: 21.39%\n",
      "\n",
      " Transfer learning on client 2\n",
      "\n",
      " Round 0 --> Epoch 1/2 \t Loss: 0.0669 \t Accuracy: 27.04%\n",
      " Round 0 --> Epoch 2/2 \t Loss: 0.0549 \t Accuracy: 39.44%\n",
      " Round 0 --> Epoch 1/2 \t Loss: 0.1253 \t Accuracy: 11.01%\n",
      " Round 0 --> Epoch 2/2 \t Loss: 0.1095 \t Accuracy: 19.60%\n"
     ]
    }
   ],
   "source": [
    "logits = trasfer_learning_init(args, model_architectures, server_loader, trainloaders)"
   ]
  },
  {
   "cell_type": "code",
   "execution_count": 26,
   "metadata": {},
   "outputs": [],
   "source": [
    "def average_client_logits(stacked_array: np.ndarray, weighted: bool = False, weights: np.ndarray = None, num_clients: int = 2, num_samples: int = 5000):\n",
    "    \"\"\"\n",
    "    Averages logits from multiple clients.\n",
    "\n",
    "    Args:\n",
    "        stacked_array (np.ndarray): Stacked logits of shape (num_clients * num_samples, num_classes).\n",
    "        weighted (bool): Whether to perform weighted averaging. Default is False.\n",
    "        weights (np.ndarray): Array of shape (num_clients,) specifying client weights. Required if weighted=True.\n",
    "\n",
    "    Returns:\n",
    "        np.ndarray: Averaged logits of shape (num_samples, num_classes).\n",
    "    \"\"\"\n",
    "\n",
    "    num_classes = stacked_array.shape[1]\n",
    "    \n",
    "    # Reshape to (num_clients, 5000, num_classes)\n",
    "    reshaped = stacked_array.reshape(num_clients, num_samples, num_classes)\n",
    "\n",
    "    if weighted:\n",
    "        if weights is None or len(weights) != num_clients:\n",
    "            raise ValueError(\"Weights must be provided and match number of clients.\")\n",
    "        weights = np.array(weights).reshape(num_clients, 1, 1)\n",
    "        averaged = np.sum(reshaped * weights, axis=0) / np.sum(weights)\n",
    "    else:\n",
    "        averaged = reshaped.mean(axis=0)\n",
    "    \n",
    "    return averaged"
   ]
  },
  {
   "cell_type": "code",
   "execution_count": 27,
   "metadata": {},
   "outputs": [
    {
     "data": {
      "text/plain": [
       "(10000, 100)"
      ]
     },
     "execution_count": 27,
     "metadata": {},
     "output_type": "execute_result"
    }
   ],
   "source": [
    "logits.shape"
   ]
  },
  {
   "cell_type": "code",
   "execution_count": 28,
   "metadata": {},
   "outputs": [],
   "source": [
    "averaged = average_client_logits(logits)"
   ]
  },
  {
   "cell_type": "code",
   "execution_count": 29,
   "metadata": {},
   "outputs": [
    {
     "data": {
      "text/plain": [
       "(5000, 100)"
      ]
     },
     "execution_count": 29,
     "metadata": {},
     "output_type": "execute_result"
    }
   ],
   "source": [
    "averaged.shape"
   ]
  },
  {
   "cell_type": "code",
   "execution_count": null,
   "metadata": {},
   "outputs": [],
   "source": []
  }
 ],
 "metadata": {
  "kernelspec": {
   "display_name": "blip-env",
   "language": "python",
   "name": "python3"
  },
  "language_info": {
   "codemirror_mode": {
    "name": "ipython",
    "version": 3
   },
   "file_extension": ".py",
   "mimetype": "text/x-python",
   "name": "python",
   "nbconvert_exporter": "python",
   "pygments_lexer": "ipython3",
   "version": "3.10.16"
  }
 },
 "nbformat": 4,
 "nbformat_minor": 2
}
